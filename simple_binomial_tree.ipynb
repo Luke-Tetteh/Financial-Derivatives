{
 "cells": [
  {
   "cell_type": "markdown",
   "id": "606b5775-65e7-49b1-99d2-d12b7162413d",
   "metadata": {},
   "source": [
    "# **SIMPLE BINOMIAL TREE**"
   ]
  },
  {
   "cell_type": "markdown",
   "id": "cbd3203f-0831-4fee-bc4f-92c78e914303",
   "metadata": {},
   "source": [
    "## 1. Constructing a Binomial Tree\n"
   ]
  },
  {
   "cell_type": "markdown",
   "id": "6e029e11-242b-4b0f-8f09-c637eaff15dc",
   "metadata": {},
   "source": [
    "In the following code snippet, you have the code for a general function to simulate the underlying stock price for some inputs: initial stock price (`S_ini`), time-horizon ($T$), upward ($u$) and downward ($d$) movements, and number of steps (N)."
   ]
  },
  {
   "cell_type": "code",
   "execution_count": 5,
   "id": "9d33fc28-81dc-49c8-ac3e-cf2b13e7e47a",
   "metadata": {},
   "outputs": [],
   "source": [
    "import numpy as np"
   ]
  },
  {
   "cell_type": "code",
   "execution_count": 6,
   "id": "338259eb-5c69-4050-845d-6795de9aa840",
   "metadata": {},
   "outputs": [],
   "source": [
    "def binomial_tree(S_ini, T, u, d, N):\n",
    "    S = np.zeros([N + 1, N + 1])  # Underlying price\n",
    "    for i in range(0, N + 1):\n",
    "        S[N, i] = S_ini * (u ** (i)) * (d ** (N - i))\n",
    "    for j in range(N - 1, -1, -1):\n",
    "        for i in range(0, j + 1):\n",
    "            S[j, i] = S_ini * (u ** (i)) * (d ** (j - i))\n",
    "    return S"
   ]
  },
  {
   "cell_type": "markdown",
   "id": "8de6fb46-ccf0-4696-afe5-63af16aed5e2",
   "metadata": {},
   "source": [
    "Note that we store everything in a variable, $S$, the one returned by the function. This variable will contain an array with the values of the stock price at each point in time in a lower triangular matrix.\n",
    "\n",
    "Let's check it by replicating the same tree for $N=2$ that you have in the Lesson 1 slides:"
   ]
  },
  {
   "cell_type": "code",
   "execution_count": 7,
   "id": "e0b056ff-ce97-4b70-9dab-78e93bf853aa",
   "metadata": {},
   "outputs": [
    {
     "data": {
      "text/plain": [
       "array([[100.,   0.,   0.],\n",
       "       [ 80., 120.,   0.],\n",
       "       [ 64.,  96., 144.]])"
      ]
     },
     "execution_count": 7,
     "metadata": {},
     "output_type": "execute_result"
    }
   ],
   "source": [
    "Stock = binomial_tree(100, 1, 1.2, 0.8, 2)\n",
    "Stock"
   ]
  },
  {
   "cell_type": "markdown",
   "id": "a8e09a6e-ec9b-4ead-b8b9-28b137c1bafe",
   "metadata": {},
   "source": [
    "## 2. Extending the Tree with Call Option Payoffs\n",
    "\n",
    "Next, let's extend the previous function by adding another variable that computes the payoffs associated with a Call Option of certain characteristics. Note that we are focusing on a European Call Option with strike price $K=90$, and therefore the payoff is only computed at maturity:"
   ]
  },
  {
   "cell_type": "code",
   "execution_count": 47,
   "id": "1bc71362-848b-45fe-88fc-8299095e62aa",
   "metadata": {},
   "outputs": [],
   "source": [
    "def binomial_tree_call(S_ini, K, T, u, d, N):\n",
    "    C = np.zeros([N + 1, N + 1])  # Call prices\n",
    "    S = np.zeros([N + 1, N + 1])  # Underlying price\n",
    "    for i in range(0, N + 1):\n",
    "        C[N, i] = max(S_ini * (u ** (i)) * (d ** (N - i)) - K, 0)\n",
    "        S[N, i] = S_ini * (u ** (i)) * (d ** (N - i))\n",
    "    for j in range(N - 1, -1, -1):\n",
    "        for i in range(0, j + 1):\n",
    "            S[j, i] = S_ini * (u ** (i)) * (d ** (j - i))\n",
    "    return S, C"
   ]
  },
  {
   "cell_type": "markdown",
   "id": "4e267145-28fd-4e10-b641-aa62148cc50c",
   "metadata": {},
   "source": [
    "It is easy to see that the variable $C$ output by the function will return Call Option payoff at maturity"
   ]
  },
  {
   "cell_type": "code",
   "execution_count": 48,
   "id": "bfda5ace-e37a-4491-a307-b60fbabc9b7b",
   "metadata": {},
   "outputs": [
    {
     "name": "stdout",
     "output_type": "stream",
     "text": [
      "Underlying Price Evolution:\n",
      " [[100.           0.           0.           0.           0.\n",
      "    0.           0.           0.           0.           0.\n",
      "    0.        ]\n",
      " [ 80.         120.           0.           0.           0.\n",
      "    0.           0.           0.           0.           0.\n",
      "    0.        ]\n",
      " [ 64.          96.         144.           0.           0.\n",
      "    0.           0.           0.           0.           0.\n",
      "    0.        ]\n",
      " [ 51.2         76.8        115.2        172.8          0.\n",
      "    0.           0.           0.           0.           0.\n",
      "    0.        ]\n",
      " [ 40.96        61.44        92.16       138.24       207.36\n",
      "    0.           0.           0.           0.           0.\n",
      "    0.        ]\n",
      " [ 32.768       49.152       73.728      110.592      165.888\n",
      "  248.832        0.           0.           0.           0.\n",
      "    0.        ]\n",
      " [ 26.2144      39.3216      58.9824      88.4736     132.7104\n",
      "  199.0656     298.5984       0.           0.           0.\n",
      "    0.        ]\n",
      " [ 20.97152     31.45728     47.18592     70.77888    106.16832\n",
      "  159.25248    238.87872    358.31808      0.           0.\n",
      "    0.        ]\n",
      " [ 16.777216    25.165824    37.748736    56.623104    84.934656\n",
      "  127.401984   191.102976   286.654464   429.981696     0.\n",
      "    0.        ]\n",
      " [ 13.4217728   20.1326592   30.1989888   45.2984832   67.9477248\n",
      "  101.9215872  152.8823808  229.3235712  343.9853568  515.9780352\n",
      "    0.        ]\n",
      " [ 10.73741824  16.10612736  24.15919104  36.23878656  54.35817984\n",
      "   81.53726976 122.30590464 183.45885696 275.18828544 412.78242816\n",
      "  619.17364224]]\n",
      "Call Option Payoff:\n",
      " [[  0.           0.           0.           0.           0.\n",
      "    0.           0.           0.           0.           0.\n",
      "    0.        ]\n",
      " [  0.           0.           0.           0.           0.\n",
      "    0.           0.           0.           0.           0.\n",
      "    0.        ]\n",
      " [  0.           0.           0.           0.           0.\n",
      "    0.           0.           0.           0.           0.\n",
      "    0.        ]\n",
      " [  0.           0.           0.           0.           0.\n",
      "    0.           0.           0.           0.           0.\n",
      "    0.        ]\n",
      " [  0.           0.           0.           0.           0.\n",
      "    0.           0.           0.           0.           0.\n",
      "    0.        ]\n",
      " [  0.           0.           0.           0.           0.\n",
      "    0.           0.           0.           0.           0.\n",
      "    0.        ]\n",
      " [  0.           0.           0.           0.           0.\n",
      "    0.           0.           0.           0.           0.\n",
      "    0.        ]\n",
      " [  0.           0.           0.           0.           0.\n",
      "    0.           0.           0.           0.           0.\n",
      "    0.        ]\n",
      " [  0.           0.           0.           0.           0.\n",
      "    0.           0.           0.           0.           0.\n",
      "    0.        ]\n",
      " [  0.           0.           0.           0.           0.\n",
      "    0.           0.           0.           0.           0.\n",
      "    0.        ]\n",
      " [  0.           0.           0.           0.           0.\n",
      "    0.          32.30590464  93.45885696 185.18828544 322.78242816\n",
      "  529.17364224]]\n"
     ]
    }
   ],
   "source": [
    "Stock, Call = binomial_tree_call(100, 90, 10, 1.2, 0.8, 10)\n",
    "print(\"Underlying Price Evolution:\\n\", Stock)\n",
    "print(\"Call Option Payoff:\\n\", Call)"
   ]
  },
  {
   "cell_type": "markdown",
   "id": "7d9469d7-f2a2-428e-bc5b-47e002448085",
   "metadata": {},
   "source": [
    "## 3. Introducing Risk-Neutral Probabilities and backward induction of Call Option Value\n",
    "\n",
    "For the final part of this notebook, let's work with the risk-neutral probabilities. Once we have the probabilities, we can, by backward induction, calculate the value of the Call Option (given its future payoffs and the associated probabilities) at each node.\n",
    "\n",
    "Importantly, once we know the risk-neutral probabilities, the value of the Call Option at each node will depend on the expected payoff in the two potential future scenarios (up or down movements), discounted at risk-free. That is:\n",
    "\n",
    "$C_{t}= e^{-rdt}[p c_{t+1}^u + (1-p) c_{t+1}^d]$\n",
    "\n",
    "where $dt$ is the discounted period from one node to the next (**time-step**), and $c_{t+1}^u$ and $c_{t+1}^d$ are the **values of the Call option in the next period**. We will therefore have to start from the last period (maturity) and work backwards, hence the term backward induction.\n",
    "\n",
    "Note that we use $dt$ here because we are assuming there are a **bunch of periods (steps) in the tree from the initial date until maturity of the option**. Under the 1-step case, we can calculate risk-neutral probabilities as we did in the videos, because $dt=T/N = 1/1 = 1 = T$:\n",
    "\n",
    "$p=\\frac{e^{rT}-d}{u-d}$\n",
    "\n",
    "Once we consider a different $dt$, we just need to modify $p$ accordingly:\n",
    "\n",
    "$p=\\frac{e^{rdt}-d}{u-d}$"
   ]
  },
  {
   "cell_type": "markdown",
   "id": "6c2f3e45-02bb-42f8-a989-3310efc3aa2c",
   "metadata": {},
   "source": [
    "Now, let's write a final function that recognizes all these issues."
   ]
  },
  {
   "cell_type": "code",
   "execution_count": 49,
   "id": "ecd33e8f-46c0-4993-ba31-5c3c4e7f3d0d",
   "metadata": {},
   "outputs": [],
   "source": [
    "def binomial_call_full(S_ini, K, T, r, u, d, N):\n",
    "    dt = T / N  # Define time step\n",
    "    p = (np.exp(r * dt) - d) / (u - d)  # Risk neutral probabilities (probs)\n",
    "    C = np.zeros([N + 1, N + 1])  # Call prices\n",
    "    S = np.zeros([N + 1, N + 1])  # Underlying price\n",
    "    for i in range(0, N + 1):\n",
    "        C[N, i] = max(S_ini * (u ** (i)) * (d ** (N - i)) - K, 0)\n",
    "        S[N, i] = S_ini * (u ** (i)) * (d ** (N - i))\n",
    "    for j in range(N - 1, -1, -1):\n",
    "        for i in range(0, j + 1):\n",
    "            C[j, i] = np.exp(-r * dt) * (p * C[j + 1, i + 1] + (1 - p) * C[j + 1, i])\n",
    "            S[j, i] = S_ini * (u ** (i)) * (d ** (j - i))\n",
    "    return C[0, 0], C, S"
   ]
  },
  {
   "cell_type": "markdown",
   "id": "2784e900-9b2f-4a5f-a1c7-a3bbfca76371",
   "metadata": {},
   "source": [
    "Notice that since we are doing backward induction, the first value of the Call Option Payoff matrix (the last we calculate) is the price of the Call Option today."
   ]
  },
  {
   "cell_type": "code",
   "execution_count": 50,
   "id": "6a545a6d-73d5-4d8c-aaab-f0d54eddb337",
   "metadata": {},
   "outputs": [
    {
     "name": "stdout",
     "output_type": "stream",
     "text": [
      "Underlying Price Evolution:\n",
      " [[100.           0.           0.           0.           0.\n",
      "    0.           0.           0.           0.           0.\n",
      "    0.        ]\n",
      " [ 80.         120.           0.           0.           0.\n",
      "    0.           0.           0.           0.           0.\n",
      "    0.        ]\n",
      " [ 64.          96.         144.           0.           0.\n",
      "    0.           0.           0.           0.           0.\n",
      "    0.        ]\n",
      " [ 51.2         76.8        115.2        172.8          0.\n",
      "    0.           0.           0.           0.           0.\n",
      "    0.        ]\n",
      " [ 40.96        61.44        92.16       138.24       207.36\n",
      "    0.           0.           0.           0.           0.\n",
      "    0.        ]\n",
      " [ 32.768       49.152       73.728      110.592      165.888\n",
      "  248.832        0.           0.           0.           0.\n",
      "    0.        ]\n",
      " [ 26.2144      39.3216      58.9824      88.4736     132.7104\n",
      "  199.0656     298.5984       0.           0.           0.\n",
      "    0.        ]\n",
      " [ 20.97152     31.45728     47.18592     70.77888    106.16832\n",
      "  159.25248    238.87872    358.31808      0.           0.\n",
      "    0.        ]\n",
      " [ 16.777216    25.165824    37.748736    56.623104    84.934656\n",
      "  127.401984   191.102976   286.654464   429.981696     0.\n",
      "    0.        ]\n",
      " [ 13.4217728   20.1326592   30.1989888   45.2984832   67.9477248\n",
      "  101.9215872  152.8823808  229.3235712  343.9853568  515.9780352\n",
      "    0.        ]\n",
      " [ 10.73741824  16.10612736  24.15919104  36.23878656  54.35817984\n",
      "   81.53726976 122.30590464 183.45885696 275.18828544 412.78242816\n",
      "  619.17364224]]\n",
      "Call Option Payoff:\n",
      " [[2.93845445e+01 0.00000000e+00 0.00000000e+00 0.00000000e+00\n",
      "  0.00000000e+00 0.00000000e+00 0.00000000e+00 0.00000000e+00\n",
      "  0.00000000e+00 0.00000000e+00 0.00000000e+00]\n",
      " [1.57572106e+01 4.30118784e+01 0.00000000e+00 0.00000000e+00\n",
      "  0.00000000e+00 0.00000000e+00 0.00000000e+00 0.00000000e+00\n",
      "  0.00000000e+00 0.00000000e+00 0.00000000e+00]\n",
      " [7.17743934e+00 2.43369819e+01 6.16867749e+01 0.00000000e+00\n",
      "  0.00000000e+00 0.00000000e+00 0.00000000e+00 0.00000000e+00\n",
      "  0.00000000e+00 0.00000000e+00 0.00000000e+00]\n",
      " [2.49687648e+00 1.18580022e+01 3.68159616e+01 8.65575882e+01\n",
      "  0.00000000e+00 0.00000000e+00 0.00000000e+00 0.00000000e+00\n",
      "  0.00000000e+00 0.00000000e+00 0.00000000e+00]\n",
      " [5.04779760e-01 4.48897320e+00 1.92270312e+01 5.44048920e+01\n",
      "  1.18710284e+02 0.00000000e+00 0.00000000e+00 0.00000000e+00\n",
      "  0.00000000e+00 0.00000000e+00 0.00000000e+00]\n",
      " [0.00000000e+00 1.00955952e+00 7.96838688e+00 3.04856755e+01\n",
      "  7.83241085e+01 1.59096460e+02 0.00000000e+00 0.00000000e+00\n",
      "  0.00000000e+00 0.00000000e+00 0.00000000e+00]\n",
      " [0.00000000e+00 0.00000000e+00 2.01911904e+00 1.39176547e+01\n",
      "  4.70536963e+01 1.09594521e+02 2.08598400e+02 0.00000000e+00\n",
      "  0.00000000e+00 0.00000000e+00 0.00000000e+00]\n",
      " [0.00000000e+00 0.00000000e+00 0.00000000e+00 4.03823808e+00\n",
      "  2.37970714e+01 7.03103213e+01 1.48878720e+02 2.68318080e+02\n",
      "  0.00000000e+00 0.00000000e+00 0.00000000e+00]\n",
      " [0.00000000e+00 0.00000000e+00 0.00000000e+00 0.00000000e+00\n",
      "  8.07647616e+00 3.95176666e+01 1.01102976e+02 1.96654464e+02\n",
      "  3.39981696e+02 0.00000000e+00 0.00000000e+00]\n",
      " [0.00000000e+00 0.00000000e+00 0.00000000e+00 0.00000000e+00\n",
      "  0.00000000e+00 1.61529523e+01 6.28823808e+01 1.39323571e+02\n",
      "  2.53985357e+02 4.25978035e+02 0.00000000e+00]\n",
      " [0.00000000e+00 0.00000000e+00 0.00000000e+00 0.00000000e+00\n",
      "  0.00000000e+00 0.00000000e+00 3.23059046e+01 9.34588570e+01\n",
      "  1.85188285e+02 3.22782428e+02 5.29173642e+02]]\n",
      "Call Option Price at t=0:  29.38\n"
     ]
    }
   ],
   "source": [
    "call_price, C, S = binomial_call_full(100, 90, 10, 0, 1.2, 0.8, 10)\n",
    "print(\"Underlying Price Evolution:\\n\", S)\n",
    "print(\"Call Option Payoff:\\n\", C)\n",
    "print(\"Call Option Price at t=0: \", \"{:.2f}\".format(call_price))"
   ]
  },
  {
   "cell_type": "markdown",
   "id": "95e6b207-c830-4f0d-a50f-6aca797e9574",
   "metadata": {},
   "source": [
    "Feel free to play around with these functions to get familiar with how they work.\n",
    "\n",
    "## 4. Conclusion\n",
    "\n",
    "In this lesson, we have started to price options in the simple framework of the binomial model."
   ]
  },
  {
   "cell_type": "code",
   "execution_count": null,
   "id": "93ca220d-d5d5-4df6-acf9-d91e1d86e226",
   "metadata": {},
   "outputs": [],
   "source": []
  }
 ],
 "metadata": {
  "kernelspec": {
   "display_name": "Python 3 (ipykernel)",
   "language": "python",
   "name": "python3"
  },
  "language_info": {
   "codemirror_mode": {
    "name": "ipython",
    "version": 3
   },
   "file_extension": ".py",
   "mimetype": "text/x-python",
   "name": "python",
   "nbconvert_exporter": "python",
   "pygments_lexer": "ipython3",
   "version": "3.9.7"
  }
 },
 "nbformat": 4,
 "nbformat_minor": 5
}
